{
 "cells": [
  {
   "cell_type": "code",
   "execution_count": 1,
   "metadata": {},
   "outputs": [],
   "source": [
    "import numpy as np\n",
    "import matplotlib.pyplot as plt\n",
    "import networkx as nx\n",
    "from scipy.integrate import odeint"
   ]
  },
  {
   "cell_type": "markdown",
   "metadata": {},
   "source": [
    "Prepare the simulation algorithm:"
   ]
  },
  {
   "cell_type": "code",
   "execution_count": 2,
   "metadata": {},
   "outputs": [],
   "source": [
    "# nonlinear function f\n",
    "def f(h, c):\n",
    "    h1 = np.empty(np.shape(h))\n",
    "    h1[h < c] = h[h < c]\n",
    "    h1[h >= c] = c\n",
    "    return h1\n",
    "\n",
    "# evolution of the hypergraph over a step t_step\n",
    "def evolution(x, I, f, c, tau, gamma, t_step):\n",
    "    inf_rate = tau*(np.dot(I, f(np.dot(np.transpose(I), x), c)))\n",
    "    r = np.random.rand(np.size(x))\n",
    "    new_x = np.empty(np.shape(x))\n",
    "    \n",
    "    i_inf = x.astype(bool) # Boolean array with value True if node is infected\n",
    "    \n",
    "    i_sus = (x-1).astype(bool) # Boolean array with value True if node is susc.\n",
    "    \n",
    "    # assign new susceptible and infected nodes (see Materials and Methods)\n",
    "    new_x[i_sus] = (r[i_sus] < 1 - np.exp(-inf_rate[i_sus]*t_step)).astype(int)\n",
    "    new_x[i_inf] = (r[i_inf] >= 1 - np.exp(-gamma*t_step)).astype(int)\n",
    "    \n",
    "    return new_x\n",
    "\n",
    "# perform a single simulation\n",
    "def routine(I, steps, c):\n",
    "    x = np.zeros(500)\n",
    "    x[np.random.randint(0, 500)] = 1 # randomly infect one node\n",
    "    inf = np.ones(steps) # array with the number of infected at all time steps\n",
    "    \n",
    "    # simulate and assign number of infect at each time\n",
    "    for i in range(1, steps):\n",
    "        x = evolution(x, I, f, c, 0.18, 1, 0.1)\n",
    "        inf[i] = np.sum(x)\n",
    "        \n",
    "    return inf"
   ]
  },
  {
   "cell_type": "markdown",
   "metadata": {},
   "source": [
    "Generate bi-uniform hypernetwork:"
   ]
  },
  {
   "cell_type": "code",
   "execution_count": 3,
   "metadata": {},
   "outputs": [],
   "source": [
    "I_bi = np.zeros((500, 175))\n",
    "\n",
    "def partition(I, hedge_size, startpoint):\n",
    "    index_list = np.arange(I.shape[0])\n",
    "    np.random.shuffle(index_list)\n",
    "    for i in range(I.shape[0]//hedge_size):\n",
    "        \n",
    "        # assign nodes to hyperedges\n",
    "        I[index_list[i*hedge_size : (i+1)*hedge_size], startpoint + i] = 1\n",
    "        \n",
    "    return I\n",
    "\n",
    "I_bi = partition(I_bi, 4, 0) # H = 4\n",
    "I_bi = partition(I_bi, 10, 125) # W = 10"
   ]
  },
  {
   "cell_type": "markdown",
   "metadata": {},
   "source": [
    "Produce plot for the bi-uniform hypernetwork, with different values of $c$:"
   ]
  },
  {
   "cell_type": "code",
   "execution_count": 4,
   "metadata": {},
   "outputs": [
    {
     "name": "stdout",
     "output_type": "stream",
     "text": [
      "379 409 441\n"
     ]
    },
    {
     "data": {
      "image/png": "[encoded data removed]",
      "text/plain": [
       "<Figure size 432x288 with 1 Axes>"
      ]
     },
     "metadata": {
      "needs_background": "light"
     },
     "output_type": "display_data"
    }
   ],
   "source": [
    "# we intend to run the simulation until t=20\n",
    "a = np.zeros(200)\n",
    "b = np.zeros(200)\n",
    "c = np.zeros(200)\n",
    "\n",
    "# initialise count of healthy outcomes\n",
    "zerocount_a = 0\n",
    "zerocount_b = 0\n",
    "zerocount_c = 0\n",
    "\n",
    "# average over 500 simulations\n",
    "i = 0\n",
    "while i < 500:\n",
    "    a_i = routine(I_bi, 200, c=10)\n",
    "    if a_i[199] != 0:\n",
    "        i += 1\n",
    "        a += a_i/500\n",
    "    else:\n",
    "        zerocount_a +=1\n",
    "        \n",
    "i = 0\n",
    "while i < 500:\n",
    "    b_i = routine(I_bi, 200, c=2)\n",
    "    if b_i[199] != 0:\n",
    "        i += 1\n",
    "        b += b_i/500\n",
    "    else:\n",
    "        zerocount_b +=1\n",
    "        \n",
    "i = 0\n",
    "while i < 500:\n",
    "    c_i = routine(I_bi, 200, c=3)\n",
    "    if c_i[199] != 0:\n",
    "        i += 1\n",
    "        c += c_i/500\n",
    "    else:\n",
    "        zerocount_c +=1\n",
    "\n",
    "print(zerocount_a, zerocount_b, zerocount_c) # count of healthy outcomes\n",
    "\n",
    "t = np.arange(0, 20, 0.1)\n",
    "plt.plot(t, a)\n",
    "plt.plot(t, b)\n",
    "plt.plot(t, c)\n",
    "plt.xlabel('t', fontsize='large')\n",
    "plt.ylabel('I(t)', fontsize='large')\n",
    "plt.legend(['c=10','c=2','c=3'], fontsize='large')\n",
    "plt.savefig('bi, effect of c')"
   ]
  },
  {
   "cell_type": "markdown",
   "metadata": {},
   "source": [
    "Generate Barabasi Albert hypernetwork:"
   ]
  },
  {
   "cell_type": "code",
   "execution_count": 5,
   "metadata": {},
   "outputs": [],
   "source": [
    "G = nx.barabasi_albert_graph(500, 8)\n",
    "cliques = list(nx.find_cliques(G))\n",
    "\n",
    "# initialise incidence matrix\n",
    "I_BA = np.zeros((500, len(cliques)))\n",
    "\n",
    "# assign nodes to hyperedges\n",
    "for i in range(len(cliques)):\n",
    "    I_BA[np.array(cliques[i]), i] = 1"
   ]
  },
  {
   "cell_type": "markdown",
   "metadata": {},
   "source": [
    "Produce plot for the Barabasi Albert hypernetwork, with different values of $c$:"
   ]
  },
  {
   "cell_type": "code",
   "execution_count": 6,
   "metadata": {},
   "outputs": [
    {
     "name": "stdout",
     "output_type": "stream",
     "text": [
      "174 206 175\n"
     ]
    },
    {
     "data": {
      "image/png": "[encoded data removed]",
      "text/plain": [
       "<Figure size 432x288 with 1 Axes>"
      ]
     },
     "metadata": {
      "needs_background": "light"
     },
     "output_type": "display_data"
    }
   ],
   "source": [
    "# we intend to run the simulation until t=5\n",
    "a = np.zeros(50)\n",
    "b = np.zeros(50)\n",
    "c = np.zeros(50)\n",
    "\n",
    "# initialise count of healthy outcomes\n",
    "zerocount_a = 0\n",
    "zerocount_b = 0\n",
    "zerocount_c = 0\n",
    "i = 0\n",
    "\n",
    "# average over 500 simulations\n",
    "while i < 500:\n",
    "    a_i = routine(I_BA, 50, c=10)\n",
    "    if a_i[49] != 0:\n",
    "        i += 1\n",
    "        a += a_i/500\n",
    "    else:\n",
    "        zerocount_a +=1\n",
    "        \n",
    "i = 0\n",
    "while i < 500:\n",
    "    b_i = routine(I_BA, 50, c=2)\n",
    "    if b_i[49] != 0:\n",
    "        i += 1\n",
    "        b += b_i/500\n",
    "    else:\n",
    "        zerocount_b +=1\n",
    "        \n",
    "i = 0\n",
    "while i < 500:\n",
    "    c_i = routine(I_BA, 50, c=3)\n",
    "    if c_i[49] != 0:\n",
    "        i += 1\n",
    "        c += c_i/500\n",
    "    else:\n",
    "        zerocount_c +=1\n",
    "\n",
    "print(zerocount_a, zerocount_b, zerocount_c) # count of healthy outcomes\n",
    "\n",
    "t = np.arange(0, 5, 0.1)\n",
    "plt.plot(t, a)\n",
    "plt.plot(t, b)\n",
    "plt.plot(t, c)\n",
    "plt.xlabel('t', fontsize='large')\n",
    "plt.ylabel('I(t)', fontsize='large')\n",
    "plt.legend(['c=10','c=2','c=3'], fontsize='large')\n",
    "plt.savefig('BA, effect of c')"
   ]
  },
  {
   "cell_type": "markdown",
   "metadata": {},
   "source": [
    "Compare the two networks' connectivity:"
   ]
  },
  {
   "cell_type": "code",
   "execution_count": 7,
   "metadata": {},
   "outputs": [
    {
     "name": "stdout",
     "output_type": "stream",
     "text": [
      "3029\n",
      "175\n"
     ]
    }
   ],
   "source": [
    "print(np.shape(I_BA)[1])\n",
    "print(np.shape(I_bi)[1])"
   ]
  },
  {
   "cell_type": "markdown",
   "metadata": {},
   "source": [
    "Produce a second bi-normal hypergraph:"
   ]
  },
  {
   "cell_type": "code",
   "execution_count": 8,
   "metadata": {},
   "outputs": [],
   "source": [
    "I_bi1 = np.zeros((500, 100))\n",
    "\n",
    "def partition(I, hedge_size, startpoint):\n",
    "    index_list = np.arange(I.shape[0])\n",
    "    np.random.shuffle(index_list)\n",
    "    for i in range(I.shape[0]//hedge_size):\n",
    "        I[index_list[i*hedge_size : (i+1)*hedge_size], startpoint + i] = 1\n",
    "    return I\n",
    "\n",
    "I_bi1 = partition(I_bi1, 10, 0) # H = 10\n",
    "I_bi1 = partition(I_bi1, 10, 50) # W = 10"
   ]
  },
  {
   "cell_type": "markdown",
   "metadata": {},
   "source": [
    "Run simulations on the two bi-normal networks:"
   ]
  },
  {
   "cell_type": "code",
   "execution_count": 9,
   "metadata": {},
   "outputs": [],
   "source": [
    "# we intend to run the simulation until t=20\n",
    "a = np.zeros(200)\n",
    "a1 = np.zeros(200)\n",
    "\n",
    "# average over 500 simulations\n",
    "i = 0\n",
    "while i < 500:\n",
    "    a_i = routine(I_bi, 200, c=3)\n",
    "    if a_i[199] != 0:\n",
    "        i += 1\n",
    "        a += a_i/500\n",
    "i=0        \n",
    "while i < 500:\n",
    "    a1_i = routine(I_bi1, 200, c=3)\n",
    "    if a1_i[199] != 0:\n",
    "        i += 1\n",
    "        a1 += a1_i/500"
   ]
  },
  {
   "cell_type": "markdown",
   "metadata": {},
   "source": [
    "Predict time evolution of infected nodes with mean-field equation:"
   ]
  },
  {
   "cell_type": "code",
   "execution_count": 10,
   "metadata": {},
   "outputs": [],
   "source": [
    "# dI/dt = func\n",
    "def func(y, t, H, W):\n",
    "    return 0.18*(500-y)*[f((H-1)*y/500, 3)[0]+f((W-1)*y/500, 3)[0]]-y\n",
    "\n",
    "# integrate until time t=20 with initial value 1\n",
    "t = np.arange(0, 20, 0.1)\n",
    "b = odeint(func, 1, t, args=(4,10)) # H = 4, W = 10\n",
    "b1 = odeint(func, 1, t, args=(10,10)) # H = 10, W = 10"
   ]
  },
  {
   "cell_type": "code",
   "execution_count": 11,
   "metadata": {},
   "outputs": [
    {
     "data": {
      "image/png": "[encoded data removed]",
      "text/plain": [
       "<Figure size 432x288 with 1 Axes>"
      ]
     },
     "metadata": {
      "needs_background": "light"
     },
     "output_type": "display_data"
    }
   ],
   "source": [
    "plt.plot(t, a)\n",
    "plt.plot(t, a1)\n",
    "plt.plot(t, b)\n",
    "plt.plot(t, b1)\n",
    "plt.xlabel('t', fontsize='large')\n",
    "plt.ylabel('I(t)', fontsize='large')\n",
    "plt.legend(['(1) H=4, W=10','(2) H=10, W=10','(1) mean-field', '(2) mean-field'], fontsize='large')\n",
    "plt.savefig('bi, mean')"
   ]
  }
 ],
 "metadata": {
  "kernelspec": {
   "display_name": "Python 3",
   "language": "python",
   "name": "python3"
  },
  "language_info": {
   "codemirror_mode": {
    "name": "ipython",
    "version": 3
   },
   "file_extension": ".py",
   "mimetype": "text/x-python",
   "name": "python",
   "nbconvert_exporter": "python",
   "pygments_lexer": "ipython3",
   "version": "3.7.4"
  }
 },
 "nbformat": 4,
 "nbformat_minor": 2
}
